{
 "cells": [
  {
   "cell_type": "markdown",
   "id": "4898951b",
   "metadata": {},
   "source": [
    "## Telecom Customer Churn Analysis\n",
    "\n",
    "### Executive Summary\n",
    "\n",
    "Customer churn, the rate at which customers discontinue their service, is a critical challenge for telecom companies, directly impacting revenue and growth. This project aims to address this issue by analyzing customer behavior and identifying key factors that contribute to churn. By understanding these drivers, telecom providers can develop targeted strategies for customer retention and improve overall satisfaction.\n",
    "\n",
    "### Project Objective\n",
    "\n",
    "The primary objective of this analysis is to gain comprehensive insights into the characteristics and behaviors of churning versus non-churning customers. This exploratory data analysis (EDA) will lay the foundational understanding required for building robust predictive models in subsequent phases, enabling the identification of at-risk customers proactively.\n",
    "\n",
    "### Dataset Overview\n",
    "\n",
    "The analysis is based on a simulated telecom customer dataset. It includes approximately 240,000 unique customer records, encompassing various attributes such as demographic information (gender, age, location), telecom partner, date of registration, number of dependents, estimated salary, and detailed usage statistics (calls made, SMS sent, data used). The dataset also includes a 'churn' flag, indicating whether a customer has churned (1) or not (0).\n",
    "\n",
    "### Notebook Structure\n",
    "\n",
    "This Jupyter Notebook is structured into the following key sections:\n",
    "\n",
    "1.  **Data Loading and Initial Inspection**: Loading the dataset and performing initial checks to understand its structure and raw content.\n",
    "2.  **Data Cleaning and Preprocessing**: Handling missing values, correcting erroneous entries, and transforming data types to prepare for analysis.\n",
    "3.  **Exploratory Data Analysis (EDA)**: In-depth analysis of various features to uncover patterns, distributions, and relationships with churn.\n",
    "4.  **Feature Engineering**: Creating new, more informative features from existing data to enhance predictive power."
   ]
  },
  {
   "cell_type": "markdown",
   "id": "5ebc2677",
   "metadata": {},
   "source": [
    "## Step 1: Data Loading and Initial Inspection\n",
    "\n",
    "In this initial phase, we load the dataset into a pandas DataFrame and perform preliminary checks to understand its structure, data types, and a statistical summary of the numerical columns. This helps in identifying potential issues such as missing values, incorrect data types, or outliers that need to be addressed in subsequent cleaning steps.\n",
    "\n",
    "### Loading the Dataset\n",
    "\n",
    "The dataset is loaded from a CSV file named `updated_telecom_churn.csv`.\n"
   ]
  },
  {
   "cell_type": "code",
   "execution_count": 1,
   "id": "398d6d1e",
   "metadata": {},
   "outputs": [
    {
     "name": "stdout",
     "output_type": "stream",
     "text": [
      "Dataset loaded successfully.\n"
     ]
    }
   ],
   "source": [
    "import pandas as pd\n",
    "import numpy as np\n",
    "\n",
    "# Load dataset\n",
    "df = pd.read_csv(r\"C:\\Users\\sahil\\Downloads\\updated_telecom_churn.csv\")\n",
    "\n",
    "print(\"Dataset loaded successfully.\")"
   ]
  },
  {
   "cell_type": "code",
   "execution_count": 2,
   "id": "68005c3b",
   "metadata": {},
   "outputs": [
    {
     "data": {
      "text/html": [
       "<div>\n",
       "<style scoped>\n",
       "    .dataframe tbody tr th:only-of-type {\n",
       "        vertical-align: middle;\n",
       "    }\n",
       "\n",
       "    .dataframe tbody tr th {\n",
       "        vertical-align: top;\n",
       "    }\n",
       "\n",
       "    .dataframe thead th {\n",
       "        text-align: right;\n",
       "    }\n",
       "</style>\n",
       "<table border=\"1\" class=\"dataframe\">\n",
       "  <thead>\n",
       "    <tr style=\"text-align: right;\">\n",
       "      <th></th>\n",
       "      <th>customer_id</th>\n",
       "      <th>telecom_partner</th>\n",
       "      <th>gender</th>\n",
       "      <th>age</th>\n",
       "      <th>state</th>\n",
       "      <th>city</th>\n",
       "      <th>pincode</th>\n",
       "      <th>date_of_registration</th>\n",
       "      <th>num_dependents</th>\n",
       "      <th>estimated_salary</th>\n",
       "      <th>calls_made</th>\n",
       "      <th>sms_sent</th>\n",
       "      <th>data_used</th>\n",
       "      <th>churn</th>\n",
       "    </tr>\n",
       "  </thead>\n",
       "  <tbody>\n",
       "    <tr>\n",
       "      <th>0</th>\n",
       "      <td>1</td>\n",
       "      <td>Reliance Jio</td>\n",
       "      <td>F</td>\n",
       "      <td>25</td>\n",
       "      <td>Karnataka</td>\n",
       "      <td>Kolkata</td>\n",
       "      <td>755597</td>\n",
       "      <td>2020-01-01</td>\n",
       "      <td>4</td>\n",
       "      <td>124962</td>\n",
       "      <td>44</td>\n",
       "      <td>45</td>\n",
       "      <td>-361</td>\n",
       "      <td>0</td>\n",
       "    </tr>\n",
       "    <tr>\n",
       "      <th>1</th>\n",
       "      <td>2</td>\n",
       "      <td>Reliance Jio</td>\n",
       "      <td>F</td>\n",
       "      <td>55</td>\n",
       "      <td>Mizoram</td>\n",
       "      <td>Mumbai</td>\n",
       "      <td>125926</td>\n",
       "      <td>2020-01-01</td>\n",
       "      <td>2</td>\n",
       "      <td>130556</td>\n",
       "      <td>62</td>\n",
       "      <td>39</td>\n",
       "      <td>5973</td>\n",
       "      <td>0</td>\n",
       "    </tr>\n",
       "    <tr>\n",
       "      <th>2</th>\n",
       "      <td>3</td>\n",
       "      <td>Vodafone</td>\n",
       "      <td>F</td>\n",
       "      <td>57</td>\n",
       "      <td>Arunachal Pradesh</td>\n",
       "      <td>Delhi</td>\n",
       "      <td>423976</td>\n",
       "      <td>2020-01-01</td>\n",
       "      <td>0</td>\n",
       "      <td>148828</td>\n",
       "      <td>49</td>\n",
       "      <td>24</td>\n",
       "      <td>193</td>\n",
       "      <td>0</td>\n",
       "    </tr>\n",
       "    <tr>\n",
       "      <th>3</th>\n",
       "      <td>4</td>\n",
       "      <td>BSNL</td>\n",
       "      <td>M</td>\n",
       "      <td>46</td>\n",
       "      <td>Tamil Nadu</td>\n",
       "      <td>Kolkata</td>\n",
       "      <td>522841</td>\n",
       "      <td>2020-01-01</td>\n",
       "      <td>1</td>\n",
       "      <td>38722</td>\n",
       "      <td>80</td>\n",
       "      <td>25</td>\n",
       "      <td>9377</td>\n",
       "      <td>0</td>\n",
       "    </tr>\n",
       "    <tr>\n",
       "      <th>4</th>\n",
       "      <td>5</td>\n",
       "      <td>BSNL</td>\n",
       "      <td>F</td>\n",
       "      <td>26</td>\n",
       "      <td>Tripura</td>\n",
       "      <td>Delhi</td>\n",
       "      <td>740247</td>\n",
       "      <td>2020-01-01</td>\n",
       "      <td>2</td>\n",
       "      <td>55098</td>\n",
       "      <td>78</td>\n",
       "      <td>15</td>\n",
       "      <td>1393</td>\n",
       "      <td>0</td>\n",
       "    </tr>\n",
       "  </tbody>\n",
       "</table>\n",
       "</div>"
      ],
      "text/plain": [
       "   customer_id telecom_partner gender  age              state     city  \\\n",
       "0            1    Reliance Jio      F   25          Karnataka  Kolkata   \n",
       "1            2    Reliance Jio      F   55            Mizoram   Mumbai   \n",
       "2            3        Vodafone      F   57  Arunachal Pradesh    Delhi   \n",
       "3            4            BSNL      M   46         Tamil Nadu  Kolkata   \n",
       "4            5            BSNL      F   26            Tripura    Delhi   \n",
       "\n",
       "   pincode date_of_registration  num_dependents  estimated_salary  calls_made  \\\n",
       "0   755597           2020-01-01               4            124962          44   \n",
       "1   125926           2020-01-01               2            130556          62   \n",
       "2   423976           2020-01-01               0            148828          49   \n",
       "3   522841           2020-01-01               1             38722          80   \n",
       "4   740247           2020-01-01               2             55098          78   \n",
       "\n",
       "   sms_sent  data_used  churn  \n",
       "0        45       -361      0  \n",
       "1        39       5973      0  \n",
       "2        24        193      0  \n",
       "3        25       9377      0  \n",
       "4        15       1393      0  "
      ]
     },
     "execution_count": 2,
     "metadata": {},
     "output_type": "execute_result"
    }
   ],
   "source": [
    "df.head()"
   ]
  },
  {
   "cell_type": "code",
   "execution_count": 3,
   "id": "8bf558d3",
   "metadata": {},
   "outputs": [
    {
     "name": "stdout",
     "output_type": "stream",
     "text": [
      "<class 'pandas.core.frame.DataFrame'>\n",
      "RangeIndex: 243553 entries, 0 to 243552\n",
      "Data columns (total 14 columns):\n",
      " #   Column                Non-Null Count   Dtype \n",
      "---  ------                --------------   ----- \n",
      " 0   customer_id           243553 non-null  int64 \n",
      " 1   telecom_partner       243553 non-null  object\n",
      " 2   gender                243553 non-null  object\n",
      " 3   age                   243553 non-null  int64 \n",
      " 4   state                 243553 non-null  object\n",
      " 5   city                  243553 non-null  object\n",
      " 6   pincode               243553 non-null  int64 \n",
      " 7   date_of_registration  243553 non-null  object\n",
      " 8   num_dependents        243553 non-null  int64 \n",
      " 9   estimated_salary      243553 non-null  int64 \n",
      " 10  calls_made            243553 non-null  int64 \n",
      " 11  sms_sent              243553 non-null  int64 \n",
      " 12  data_used             243553 non-null  int64 \n",
      " 13  churn                 243553 non-null  int64 \n",
      "dtypes: int64(9), object(5)\n",
      "memory usage: 26.0+ MB\n"
     ]
    }
   ],
   "source": [
    "df.info()"
   ]
  },
  {
   "cell_type": "code",
   "execution_count": 4,
   "id": "be0988e9",
   "metadata": {},
   "outputs": [
    {
     "data": {
      "text/html": [
       "<div>\n",
       "<style scoped>\n",
       "    .dataframe tbody tr th:only-of-type {\n",
       "        vertical-align: middle;\n",
       "    }\n",
       "\n",
       "    .dataframe tbody tr th {\n",
       "        vertical-align: top;\n",
       "    }\n",
       "\n",
       "    .dataframe thead th {\n",
       "        text-align: right;\n",
       "    }\n",
       "</style>\n",
       "<table border=\"1\" class=\"dataframe\">\n",
       "  <thead>\n",
       "    <tr style=\"text-align: right;\">\n",
       "      <th></th>\n",
       "      <th>customer_id</th>\n",
       "      <th>age</th>\n",
       "      <th>pincode</th>\n",
       "      <th>num_dependents</th>\n",
       "      <th>estimated_salary</th>\n",
       "      <th>calls_made</th>\n",
       "      <th>sms_sent</th>\n",
       "      <th>data_used</th>\n",
       "      <th>churn</th>\n",
       "    </tr>\n",
       "  </thead>\n",
       "  <tbody>\n",
       "    <tr>\n",
       "      <th>count</th>\n",
       "      <td>243553.000000</td>\n",
       "      <td>243553.000000</td>\n",
       "      <td>243553.000000</td>\n",
       "      <td>243553.000000</td>\n",
       "      <td>243553.000000</td>\n",
       "      <td>243553.000000</td>\n",
       "      <td>243553.000000</td>\n",
       "      <td>243553.000000</td>\n",
       "      <td>243553.000000</td>\n",
       "    </tr>\n",
       "    <tr>\n",
       "      <th>mean</th>\n",
       "      <td>121777.000000</td>\n",
       "      <td>46.077609</td>\n",
       "      <td>549501.270541</td>\n",
       "      <td>1.997500</td>\n",
       "      <td>85021.137839</td>\n",
       "      <td>49.010548</td>\n",
       "      <td>23.945404</td>\n",
       "      <td>4993.186025</td>\n",
       "      <td>0.199850</td>\n",
       "    </tr>\n",
       "    <tr>\n",
       "      <th>std</th>\n",
       "      <td>70307.839393</td>\n",
       "      <td>16.444029</td>\n",
       "      <td>259808.860574</td>\n",
       "      <td>1.414941</td>\n",
       "      <td>37508.963233</td>\n",
       "      <td>29.453556</td>\n",
       "      <td>14.733575</td>\n",
       "      <td>2942.019547</td>\n",
       "      <td>0.399888</td>\n",
       "    </tr>\n",
       "    <tr>\n",
       "      <th>min</th>\n",
       "      <td>1.000000</td>\n",
       "      <td>18.000000</td>\n",
       "      <td>100006.000000</td>\n",
       "      <td>0.000000</td>\n",
       "      <td>20000.000000</td>\n",
       "      <td>-10.000000</td>\n",
       "      <td>-5.000000</td>\n",
       "      <td>-987.000000</td>\n",
       "      <td>0.000000</td>\n",
       "    </tr>\n",
       "    <tr>\n",
       "      <th>25%</th>\n",
       "      <td>60889.000000</td>\n",
       "      <td>32.000000</td>\n",
       "      <td>324586.000000</td>\n",
       "      <td>1.000000</td>\n",
       "      <td>52585.000000</td>\n",
       "      <td>24.000000</td>\n",
       "      <td>11.000000</td>\n",
       "      <td>2490.000000</td>\n",
       "      <td>0.000000</td>\n",
       "    </tr>\n",
       "    <tr>\n",
       "      <th>50%</th>\n",
       "      <td>121777.000000</td>\n",
       "      <td>46.000000</td>\n",
       "      <td>548112.000000</td>\n",
       "      <td>2.000000</td>\n",
       "      <td>84990.000000</td>\n",
       "      <td>49.000000</td>\n",
       "      <td>24.000000</td>\n",
       "      <td>4987.000000</td>\n",
       "      <td>0.000000</td>\n",
       "    </tr>\n",
       "    <tr>\n",
       "      <th>75%</th>\n",
       "      <td>182665.000000</td>\n",
       "      <td>60.000000</td>\n",
       "      <td>774994.000000</td>\n",
       "      <td>3.000000</td>\n",
       "      <td>117488.000000</td>\n",
       "      <td>74.000000</td>\n",
       "      <td>36.000000</td>\n",
       "      <td>7493.000000</td>\n",
       "      <td>0.000000</td>\n",
       "    </tr>\n",
       "    <tr>\n",
       "      <th>max</th>\n",
       "      <td>243553.000000</td>\n",
       "      <td>74.000000</td>\n",
       "      <td>999987.000000</td>\n",
       "      <td>4.000000</td>\n",
       "      <td>149999.000000</td>\n",
       "      <td>108.000000</td>\n",
       "      <td>53.000000</td>\n",
       "      <td>10991.000000</td>\n",
       "      <td>1.000000</td>\n",
       "    </tr>\n",
       "  </tbody>\n",
       "</table>\n",
       "</div>"
      ],
      "text/plain": [
       "         customer_id            age        pincode  num_dependents  \\\n",
       "count  243553.000000  243553.000000  243553.000000   243553.000000   \n",
       "mean   121777.000000      46.077609  549501.270541        1.997500   \n",
       "std     70307.839393      16.444029  259808.860574        1.414941   \n",
       "min         1.000000      18.000000  100006.000000        0.000000   \n",
       "25%     60889.000000      32.000000  324586.000000        1.000000   \n",
       "50%    121777.000000      46.000000  548112.000000        2.000000   \n",
       "75%    182665.000000      60.000000  774994.000000        3.000000   \n",
       "max    243553.000000      74.000000  999987.000000        4.000000   \n",
       "\n",
       "       estimated_salary     calls_made       sms_sent      data_used  \\\n",
       "count     243553.000000  243553.000000  243553.000000  243553.000000   \n",
       "mean       85021.137839      49.010548      23.945404    4993.186025   \n",
       "std        37508.963233      29.453556      14.733575    2942.019547   \n",
       "min        20000.000000     -10.000000      -5.000000    -987.000000   \n",
       "25%        52585.000000      24.000000      11.000000    2490.000000   \n",
       "50%        84990.000000      49.000000      24.000000    4987.000000   \n",
       "75%       117488.000000      74.000000      36.000000    7493.000000   \n",
       "max       149999.000000     108.000000      53.000000   10991.000000   \n",
       "\n",
       "               churn  \n",
       "count  243553.000000  \n",
       "mean        0.199850  \n",
       "std         0.399888  \n",
       "min         0.000000  \n",
       "25%         0.000000  \n",
       "50%         0.000000  \n",
       "75%         0.000000  \n",
       "max         1.000000  "
      ]
     },
     "execution_count": 4,
     "metadata": {},
     "output_type": "execute_result"
    }
   ],
   "source": [
    "df.describe()"
   ]
  },
  {
   "cell_type": "markdown",
   "id": "60c21c50",
   "metadata": {},
   "source": [
    "## Step 2: Data Cleaning and Preprocessing\n",
    "\n",
    "This phase focuses on ensuring the quality and usability of our data by addressing inconsistencies, correcting erroneous entries, and transforming data types. Clean data is crucial for accurate analysis and meaningful insights.\n",
    "\n",
    "### Addressing Illogical 'data_used' Values\n",
    "\n",
    "The initial inspection revealed negative values in the 'data_used' column, which are illogical for consumption metrics. These negative values are treated as invalid entries and converted to `NaN` (Not a Number). This step ensures that our usage calculations are based on valid data."
   ]
  },
  {
   "cell_type": "code",
   "execution_count": 5,
   "id": "26361bc5",
   "metadata": {},
   "outputs": [
    {
     "name": "stdout",
     "output_type": "stream",
     "text": [
      "Negative 'data_used' values replaced with NaN.\n"
     ]
    }
   ],
   "source": [
    "# Fix invalid 'data_used' values: Convert to numeric first (handles potential non-numeric entries),\n",
    "# then replace negative values with NaN.\n",
    "df['data_used'] = pd.to_numeric(df['data_used'], errors='coerce')\n",
    "df.loc[df['data_used'] < 0, 'data_used'] = np.nan\n",
    "\n",
    "print(\"Negative 'data_used' values replaced with NaN.\")"
   ]
  },
  {
   "cell_type": "markdown",
   "id": "80f32e95",
   "metadata": {},
   "source": [
    "### Converting `date_of_registration` to Datetime\n",
    "\n",
    "The `date_of_registration` column is currently stored as an object (string). To perform time-based calculations, such as determining customer tenure, it needs to be converted into a datetime data type."
   ]
  },
  {
   "cell_type": "code",
   "execution_count": 6,
   "id": "c8e3417c",
   "metadata": {},
   "outputs": [
    {
     "name": "stdout",
     "output_type": "stream",
     "text": [
      "'date_of_registration' converted to datetime format.\n"
     ]
    }
   ],
   "source": [
    "# Convert 'date_of_registration' to datetime\n",
    "df['date_of_registration'] = pd.to_datetime(df['date_of_registration'], errors='coerce')\n",
    "\n",
    "print(\"'date_of_registration' converted to datetime format.\")"
   ]
  },
  {
   "cell_type": "markdown",
   "id": "a2441e3a",
   "metadata": {},
   "source": [
    "### Creating `tenure_days`\n",
    "\n",
    "Customer tenure, representing the duration a customer has been registered, is a vital loyalty indicator. We calculate this by subtracting the registration date from the current date and extracting the number of days."
   ]
  },
  {
   "cell_type": "code",
   "execution_count": 7,
   "id": "1fef2890",
   "metadata": {},
   "outputs": [
    {
     "name": "stdout",
     "output_type": "stream",
     "text": [
      "'tenure_days' feature created.\n"
     ]
    }
   ],
   "source": [
    "# Create 'tenure_days'\n",
    "# Using pd.to_datetime('today') to calculate tenure up to the current date\n",
    "df['tenure_days'] = (pd.to_datetime('today') - df['date_of_registration']).dt.days\n",
    "\n",
    "print(\"'tenure_days' feature created.\")"
   ]
  },
  {
   "cell_type": "markdown",
   "id": "87de5384",
   "metadata": {},
   "source": [
    "### Calculating `total_usage`\n",
    "\n",
    "To get an aggregated view of customer engagement, `'total_usage'` is calculated by summing the `'calls_made'`, `'sms_sent'`, and `'data_used'` for each customer. This single metric provides a holistic measure of overall activity."
   ]
  },
  {
   "cell_type": "code",
   "execution_count": 8,
   "id": "57c5556d",
   "metadata": {},
   "outputs": [
    {
     "name": "stdout",
     "output_type": "stream",
     "text": [
      "'total_usage' feature created.\n"
     ]
    }
   ],
   "source": [
    "# Create 'total_usage'\n",
    "df['total_usage'] = df[['calls_made', 'sms_sent', 'data_used']].sum(axis=1)\n",
    "\n",
    "print(\"'total_usage' feature created.\")"
   ]
  },
  {
   "cell_type": "markdown",
   "id": "95b5738f",
   "metadata": {},
   "source": [
    "### Engineering 'Usage per Day' Metrics\n",
    "\n",
    "Normalizing usage metrics by tenure provides a fairer comparison of daily engagement, irrespective of a customer's total time with the company. These `'per day'` metrics (calls, SMS, data) offer insights into consistent daily activity."
   ]
  },
  {
   "cell_type": "code",
   "execution_count": 9,
   "id": "a8fd0933",
   "metadata": {},
   "outputs": [
    {
     "name": "stdout",
     "output_type": "stream",
     "text": [
      "'Usage per day' metrics created and cleaned.\n"
     ]
    }
   ],
   "source": [
    "# Create usage per day metrics\n",
    "# Note: Division by df['tenure_days'] might result in 'inf' for 0 tenure_days or 'NaN' if date_of_registration was problematic\n",
    "df['calls_per_day'] = df['calls_made'] / df['tenure_days']\n",
    "df['sms_per_day'] = df['sms_sent'] / df['tenure_days']\n",
    "df['data_per_day'] = df['data_used'] / df['tenure_days']\n",
    "\n",
    "# List of the new numeric columns where 'inf' or 'NaN' might have been introduced by division\n",
    "cols_to_clean_usage = ['calls_per_day', 'sms_per_day', 'data_per_day']\n",
    "\n",
    "# Replace infinite values (e.g., from division by zero) and fill NaNs with 0\n",
    "# The assumption here is that if tenure is 0 or data_used was NaN, there's effectively no daily usage for that period.\n",
    "for col in cols_to_clean_usage:\n",
    "    df[col].replace([np.inf, -np.inf], 0, inplace=True)\n",
    "    df[col].fillna(0, inplace=True)\n",
    "\n",
    "print(\"'Usage per day' metrics created and cleaned.\")"
   ]
  },
  {
   "cell_type": "markdown",
   "id": "f8244b06",
   "metadata": {},
   "source": [
    "### Reviewing Data After Cleaning and Preprocessing\n",
    "\n",
    "A final check of the DataFrame's head and information summary after all cleaning and preprocessing steps confirms the new features and corrected data types."
   ]
  },
  {
   "cell_type": "code",
   "execution_count": 10,
   "id": "5e245eb1",
   "metadata": {},
   "outputs": [
    {
     "data": {
      "text/html": [
       "<div>\n",
       "<style scoped>\n",
       "    .dataframe tbody tr th:only-of-type {\n",
       "        vertical-align: middle;\n",
       "    }\n",
       "\n",
       "    .dataframe tbody tr th {\n",
       "        vertical-align: top;\n",
       "    }\n",
       "\n",
       "    .dataframe thead th {\n",
       "        text-align: right;\n",
       "    }\n",
       "</style>\n",
       "<table border=\"1\" class=\"dataframe\">\n",
       "  <thead>\n",
       "    <tr style=\"text-align: right;\">\n",
       "      <th></th>\n",
       "      <th>customer_id</th>\n",
       "      <th>telecom_partner</th>\n",
       "      <th>gender</th>\n",
       "      <th>age</th>\n",
       "      <th>state</th>\n",
       "      <th>city</th>\n",
       "      <th>pincode</th>\n",
       "      <th>date_of_registration</th>\n",
       "      <th>num_dependents</th>\n",
       "      <th>estimated_salary</th>\n",
       "      <th>calls_made</th>\n",
       "      <th>sms_sent</th>\n",
       "      <th>data_used</th>\n",
       "      <th>churn</th>\n",
       "      <th>tenure_days</th>\n",
       "      <th>total_usage</th>\n",
       "      <th>calls_per_day</th>\n",
       "      <th>sms_per_day</th>\n",
       "      <th>data_per_day</th>\n",
       "    </tr>\n",
       "  </thead>\n",
       "  <tbody>\n",
       "    <tr>\n",
       "      <th>0</th>\n",
       "      <td>1</td>\n",
       "      <td>Reliance Jio</td>\n",
       "      <td>F</td>\n",
       "      <td>25</td>\n",
       "      <td>Karnataka</td>\n",
       "      <td>Kolkata</td>\n",
       "      <td>755597</td>\n",
       "      <td>2020-01-01</td>\n",
       "      <td>4</td>\n",
       "      <td>124962</td>\n",
       "      <td>44</td>\n",
       "      <td>45</td>\n",
       "      <td>NaN</td>\n",
       "      <td>0</td>\n",
       "      <td>2035</td>\n",
       "      <td>89.0</td>\n",
       "      <td>0.021622</td>\n",
       "      <td>0.022113</td>\n",
       "      <td>0.000000</td>\n",
       "    </tr>\n",
       "    <tr>\n",
       "      <th>1</th>\n",
       "      <td>2</td>\n",
       "      <td>Reliance Jio</td>\n",
       "      <td>F</td>\n",
       "      <td>55</td>\n",
       "      <td>Mizoram</td>\n",
       "      <td>Mumbai</td>\n",
       "      <td>125926</td>\n",
       "      <td>2020-01-01</td>\n",
       "      <td>2</td>\n",
       "      <td>130556</td>\n",
       "      <td>62</td>\n",
       "      <td>39</td>\n",
       "      <td>5973.0</td>\n",
       "      <td>0</td>\n",
       "      <td>2035</td>\n",
       "      <td>6074.0</td>\n",
       "      <td>0.030467</td>\n",
       "      <td>0.019165</td>\n",
       "      <td>2.935135</td>\n",
       "    </tr>\n",
       "    <tr>\n",
       "      <th>2</th>\n",
       "      <td>3</td>\n",
       "      <td>Vodafone</td>\n",
       "      <td>F</td>\n",
       "      <td>57</td>\n",
       "      <td>Arunachal Pradesh</td>\n",
       "      <td>Delhi</td>\n",
       "      <td>423976</td>\n",
       "      <td>2020-01-01</td>\n",
       "      <td>0</td>\n",
       "      <td>148828</td>\n",
       "      <td>49</td>\n",
       "      <td>24</td>\n",
       "      <td>193.0</td>\n",
       "      <td>0</td>\n",
       "      <td>2035</td>\n",
       "      <td>266.0</td>\n",
       "      <td>0.024079</td>\n",
       "      <td>0.011794</td>\n",
       "      <td>0.094840</td>\n",
       "    </tr>\n",
       "    <tr>\n",
       "      <th>3</th>\n",
       "      <td>4</td>\n",
       "      <td>BSNL</td>\n",
       "      <td>M</td>\n",
       "      <td>46</td>\n",
       "      <td>Tamil Nadu</td>\n",
       "      <td>Kolkata</td>\n",
       "      <td>522841</td>\n",
       "      <td>2020-01-01</td>\n",
       "      <td>1</td>\n",
       "      <td>38722</td>\n",
       "      <td>80</td>\n",
       "      <td>25</td>\n",
       "      <td>9377.0</td>\n",
       "      <td>0</td>\n",
       "      <td>2035</td>\n",
       "      <td>9482.0</td>\n",
       "      <td>0.039312</td>\n",
       "      <td>0.012285</td>\n",
       "      <td>4.607862</td>\n",
       "    </tr>\n",
       "    <tr>\n",
       "      <th>4</th>\n",
       "      <td>5</td>\n",
       "      <td>BSNL</td>\n",
       "      <td>F</td>\n",
       "      <td>26</td>\n",
       "      <td>Tripura</td>\n",
       "      <td>Delhi</td>\n",
       "      <td>740247</td>\n",
       "      <td>2020-01-01</td>\n",
       "      <td>2</td>\n",
       "      <td>55098</td>\n",
       "      <td>78</td>\n",
       "      <td>15</td>\n",
       "      <td>1393.0</td>\n",
       "      <td>0</td>\n",
       "      <td>2035</td>\n",
       "      <td>1486.0</td>\n",
       "      <td>0.038329</td>\n",
       "      <td>0.007371</td>\n",
       "      <td>0.684521</td>\n",
       "    </tr>\n",
       "  </tbody>\n",
       "</table>\n",
       "</div>"
      ],
      "text/plain": [
       "   customer_id telecom_partner gender  age              state     city  \\\n",
       "0            1    Reliance Jio      F   25          Karnataka  Kolkata   \n",
       "1            2    Reliance Jio      F   55            Mizoram   Mumbai   \n",
       "2            3        Vodafone      F   57  Arunachal Pradesh    Delhi   \n",
       "3            4            BSNL      M   46         Tamil Nadu  Kolkata   \n",
       "4            5            BSNL      F   26            Tripura    Delhi   \n",
       "\n",
       "   pincode date_of_registration  num_dependents  estimated_salary  calls_made  \\\n",
       "0   755597           2020-01-01               4            124962          44   \n",
       "1   125926           2020-01-01               2            130556          62   \n",
       "2   423976           2020-01-01               0            148828          49   \n",
       "3   522841           2020-01-01               1             38722          80   \n",
       "4   740247           2020-01-01               2             55098          78   \n",
       "\n",
       "   sms_sent  data_used  churn  tenure_days  total_usage  calls_per_day  \\\n",
       "0        45        NaN      0         2035         89.0       0.021622   \n",
       "1        39     5973.0      0         2035       6074.0       0.030467   \n",
       "2        24      193.0      0         2035        266.0       0.024079   \n",
       "3        25     9377.0      0         2035       9482.0       0.039312   \n",
       "4        15     1393.0      0         2035       1486.0       0.038329   \n",
       "\n",
       "   sms_per_day  data_per_day  \n",
       "0     0.022113      0.000000  \n",
       "1     0.019165      2.935135  \n",
       "2     0.011794      0.094840  \n",
       "3     0.012285      4.607862  \n",
       "4     0.007371      0.684521  "
      ]
     },
     "execution_count": 10,
     "metadata": {},
     "output_type": "execute_result"
    }
   ],
   "source": [
    "# Preview cleaned data\n",
    "df.head()"
   ]
  },
  {
   "cell_type": "code",
   "execution_count": 11,
   "id": "a12e6d5d",
   "metadata": {},
   "outputs": [
    {
     "name": "stdout",
     "output_type": "stream",
     "text": [
      "<class 'pandas.core.frame.DataFrame'>\n",
      "RangeIndex: 243553 entries, 0 to 243552\n",
      "Data columns (total 19 columns):\n",
      " #   Column                Non-Null Count   Dtype         \n",
      "---  ------                --------------   -----         \n",
      " 0   customer_id           243553 non-null  int64         \n",
      " 1   telecom_partner       243553 non-null  object        \n",
      " 2   gender                243553 non-null  object        \n",
      " 3   age                   243553 non-null  int64         \n",
      " 4   state                 243553 non-null  object        \n",
      " 5   city                  243553 non-null  object        \n",
      " 6   pincode               243553 non-null  int64         \n",
      " 7   date_of_registration  243553 non-null  datetime64[ns]\n",
      " 8   num_dependents        243553 non-null  int64         \n",
      " 9   estimated_salary      243553 non-null  int64         \n",
      " 10  calls_made            243553 non-null  int64         \n",
      " 11  sms_sent              243553 non-null  int64         \n",
      " 12  data_used             237503 non-null  float64       \n",
      " 13  churn                 243553 non-null  int64         \n",
      " 14  tenure_days           243553 non-null  int64         \n",
      " 15  total_usage           243553 non-null  float64       \n",
      " 16  calls_per_day         243553 non-null  float64       \n",
      " 17  sms_per_day           243553 non-null  float64       \n",
      " 18  data_per_day          243553 non-null  float64       \n",
      "dtypes: datetime64[ns](1), float64(5), int64(9), object(4)\n",
      "memory usage: 35.3+ MB\n"
     ]
    }
   ],
   "source": [
    "df.info()"
   ]
  },
  {
   "cell_type": "markdown",
   "id": "5e72caff",
   "metadata": {},
   "source": [
    "## Step 3: Feature Engineering - Building More Intelligent Predictors\n",
    "\n",
    "In this crucial phase, we transition from raw data to creating powerful, engineered features. The goal is not just to add more data, but to distill meaningful business concepts—like customer loyalty, engagement, and demographic profiles—into signals that can enhance our understanding of churn. This is where data analysis creates a competitive edge, turning basic information into deeper insights.\n",
    "\n",
    "We've already engineered 'tenure_days', 'total_usage', and 'usage per day' metrics in the preprocessing stage. Now, we will build additional features to further enrich our dataset.\n",
    "\n",
    "### Key Features Engineered and Their Strategic Value:\n",
    "\n",
    "* **`is_senior`**: Creates a specific demographic segment (age 60+) to isolate potential age-related churn patterns.\n",
    "* **`usage_intensity`**: Combines multiple usage metrics into a single, standardized score for a holistic view of user activity.\n",
    "* **`salary_bucket`**: Groups customers into income tiers ('Low', 'Mid', 'High') to find patterns based on economic standing, potentially correlating with affordability or value perception.\n",
    "\n",
    "---\n",
    "\n",
    "### Engineering `'is_senior'` Feature\n",
    "\n",
    "This binary feature flags users aged 60 or more. This allows us to specifically analyze if senior customers exhibit different churn behaviors compared to other age groups, isolating age-related patterns that might influence retention.\n"
   ]
  },
  {
   "cell_type": "code",
   "execution_count": 12,
   "id": "62ac8509",
   "metadata": {},
   "outputs": [
    {
     "name": "stdout",
     "output_type": "stream",
     "text": [
      "'is_senior' feature created.\n"
     ]
    }
   ],
   "source": [
    "# Flag users with age 60 or more as 1, others as 0\n",
    "df['is_senior'] = (df['age'] >= 60).astype(int)\n",
    "\n",
    "print(\"'is_senior' feature created.\")"
   ]
  },
  {
   "cell_type": "markdown",
   "id": "37765456",
   "metadata": {},
   "source": [
    "### Creating `usage_intensity` Score\n",
    "\n",
    "To capture the overall level of customer engagement in a single metric, we create `'usage_intensity'`. This is achieved by first standardizing (scaling) the `'calls_made'`, `'sms_sent'`, and `'data_used'` features. Scaling is important to ensure that features with larger numerical ranges (like data used) don't disproportionately influence the combined score. The standardized values are then summed to form the `'usage_intensity'` score."
   ]
  },
  {
   "cell_type": "code",
   "execution_count": 13,
   "id": "a5a54132",
   "metadata": {},
   "outputs": [
    {
     "name": "stdout",
     "output_type": "stream",
     "text": [
      "'usage_intensity' feature created and standardized.\n"
     ]
    }
   ],
   "source": [
    "from sklearn.preprocessing import StandardScaler\n",
    "\n",
    "# Select the usage features for combination\n",
    "usage_features = ['calls_made', 'sms_sent', 'data_used']\n",
    "\n",
    "# Create a copy of the DataFrame for scaling to avoid SettingWithCopyWarning\n",
    "df_scaled = df.copy()\n",
    "\n",
    "# Scale the selected usage features\n",
    "# StandardScaler transforms data to have a mean of 0 and a standard deviation of 1.\n",
    "scaler = StandardScaler()\n",
    "df_scaled[usage_features] = scaler.fit_transform(df[usage_features])\n",
    "\n",
    "# Create the combined score by summing the scaled features\n",
    "# This provides a normalized aggregate of calls, SMS, and data usage.\n",
    "df['usage_intensity'] = df_scaled[usage_features].sum(axis=1)\n",
    "\n",
    "print(\"'usage_intensity' feature created and standardized.\")"
   ]
  },
  {
   "cell_type": "markdown",
   "id": "850ff260",
   "metadata": {},
   "source": [
    "### Deriving `salary_bucket` Feature\n",
    "\n",
    "The continuous `estimated_salary` feature is binned into three categorical groups: `'Low'`, `'Mid'`, and `'High'`. This transformation helps us investigate if customer churn varies across different income brackets, which could be indicative of service affordability or perceived value for money. Quantiles are used to create buckets with a relatively equal number of customers."
   ]
  },
  {
   "cell_type": "code",
   "execution_count": 14,
   "id": "e6f0f461",
   "metadata": {},
   "outputs": [
    {
     "name": "stdout",
     "output_type": "stream",
     "text": [
      "'salary_bucket' feature created.\n"
     ]
    }
   ],
   "source": [
    "# Create salary buckets using quantiles\n",
    "# pd.qcut divides data into equal-sized bins based on rank or distribution.\n",
    "df['salary_bucket'] = pd.qcut(df['estimated_salary'], q=3, labels=['Low', 'Mid', 'High'])\n",
    "\n",
    "print(\"'salary_bucket' feature created.\")"
   ]
  },
  {
   "cell_type": "markdown",
   "id": "5b4dbeac",
   "metadata": {},
   "source": [
    "### Reviewing the DataFrame with Newly Engineered Features\n",
    "\n",
    "A final look at the DataFrame's head and information summary confirms the addition and data types of our newly engineered features, preparing the dataset for in-depth exploratory data analysis."
   ]
  },
  {
   "cell_type": "code",
   "execution_count": 15,
   "id": "a8b29c89",
   "metadata": {},
   "outputs": [
    {
     "data": {
      "text/html": [
       "<div>\n",
       "<style scoped>\n",
       "    .dataframe tbody tr th:only-of-type {\n",
       "        vertical-align: middle;\n",
       "    }\n",
       "\n",
       "    .dataframe tbody tr th {\n",
       "        vertical-align: top;\n",
       "    }\n",
       "\n",
       "    .dataframe thead th {\n",
       "        text-align: right;\n",
       "    }\n",
       "</style>\n",
       "<table border=\"1\" class=\"dataframe\">\n",
       "  <thead>\n",
       "    <tr style=\"text-align: right;\">\n",
       "      <th></th>\n",
       "      <th>customer_id</th>\n",
       "      <th>telecom_partner</th>\n",
       "      <th>gender</th>\n",
       "      <th>age</th>\n",
       "      <th>state</th>\n",
       "      <th>city</th>\n",
       "      <th>pincode</th>\n",
       "      <th>date_of_registration</th>\n",
       "      <th>num_dependents</th>\n",
       "      <th>estimated_salary</th>\n",
       "      <th>...</th>\n",
       "      <th>data_used</th>\n",
       "      <th>churn</th>\n",
       "      <th>tenure_days</th>\n",
       "      <th>total_usage</th>\n",
       "      <th>calls_per_day</th>\n",
       "      <th>sms_per_day</th>\n",
       "      <th>data_per_day</th>\n",
       "      <th>is_senior</th>\n",
       "      <th>usage_intensity</th>\n",
       "      <th>salary_bucket</th>\n",
       "    </tr>\n",
       "  </thead>\n",
       "  <tbody>\n",
       "    <tr>\n",
       "      <th>0</th>\n",
       "      <td>1</td>\n",
       "      <td>Reliance Jio</td>\n",
       "      <td>F</td>\n",
       "      <td>25</td>\n",
       "      <td>Karnataka</td>\n",
       "      <td>Kolkata</td>\n",
       "      <td>755597</td>\n",
       "      <td>2020-01-01</td>\n",
       "      <td>4</td>\n",
       "      <td>124962</td>\n",
       "      <td>...</td>\n",
       "      <td>NaN</td>\n",
       "      <td>0</td>\n",
       "      <td>2035</td>\n",
       "      <td>89.0</td>\n",
       "      <td>0.021622</td>\n",
       "      <td>0.022113</td>\n",
       "      <td>0.000000</td>\n",
       "      <td>0</td>\n",
       "      <td>1.258907</td>\n",
       "      <td>High</td>\n",
       "    </tr>\n",
       "    <tr>\n",
       "      <th>1</th>\n",
       "      <td>2</td>\n",
       "      <td>Reliance Jio</td>\n",
       "      <td>F</td>\n",
       "      <td>55</td>\n",
       "      <td>Mizoram</td>\n",
       "      <td>Mumbai</td>\n",
       "      <td>125926</td>\n",
       "      <td>2020-01-01</td>\n",
       "      <td>2</td>\n",
       "      <td>130556</td>\n",
       "      <td>...</td>\n",
       "      <td>5973.0</td>\n",
       "      <td>0</td>\n",
       "      <td>2035</td>\n",
       "      <td>6074.0</td>\n",
       "      <td>0.030467</td>\n",
       "      <td>0.019165</td>\n",
       "      <td>2.935135</td>\n",
       "      <td>0</td>\n",
       "      <td>1.758811</td>\n",
       "      <td>High</td>\n",
       "    </tr>\n",
       "    <tr>\n",
       "      <th>2</th>\n",
       "      <td>3</td>\n",
       "      <td>Vodafone</td>\n",
       "      <td>F</td>\n",
       "      <td>57</td>\n",
       "      <td>Arunachal Pradesh</td>\n",
       "      <td>Delhi</td>\n",
       "      <td>423976</td>\n",
       "      <td>2020-01-01</td>\n",
       "      <td>0</td>\n",
       "      <td>148828</td>\n",
       "      <td>...</td>\n",
       "      <td>193.0</td>\n",
       "      <td>0</td>\n",
       "      <td>2035</td>\n",
       "      <td>266.0</td>\n",
       "      <td>0.024079</td>\n",
       "      <td>0.011794</td>\n",
       "      <td>0.094840</td>\n",
       "      <td>0</td>\n",
       "      <td>-1.727204</td>\n",
       "      <td>High</td>\n",
       "    </tr>\n",
       "    <tr>\n",
       "      <th>3</th>\n",
       "      <td>4</td>\n",
       "      <td>BSNL</td>\n",
       "      <td>M</td>\n",
       "      <td>46</td>\n",
       "      <td>Tamil Nadu</td>\n",
       "      <td>Kolkata</td>\n",
       "      <td>522841</td>\n",
       "      <td>2020-01-01</td>\n",
       "      <td>1</td>\n",
       "      <td>38722</td>\n",
       "      <td>...</td>\n",
       "      <td>9377.0</td>\n",
       "      <td>0</td>\n",
       "      <td>2035</td>\n",
       "      <td>9482.0</td>\n",
       "      <td>0.039312</td>\n",
       "      <td>0.012285</td>\n",
       "      <td>4.607862</td>\n",
       "      <td>0</td>\n",
       "      <td>2.613225</td>\n",
       "      <td>Low</td>\n",
       "    </tr>\n",
       "    <tr>\n",
       "      <th>4</th>\n",
       "      <td>5</td>\n",
       "      <td>BSNL</td>\n",
       "      <td>F</td>\n",
       "      <td>26</td>\n",
       "      <td>Tripura</td>\n",
       "      <td>Delhi</td>\n",
       "      <td>740247</td>\n",
       "      <td>2020-01-01</td>\n",
       "      <td>2</td>\n",
       "      <td>55098</td>\n",
       "      <td>...</td>\n",
       "      <td>1393.0</td>\n",
       "      <td>0</td>\n",
       "      <td>2035</td>\n",
       "      <td>1486.0</td>\n",
       "      <td>0.038329</td>\n",
       "      <td>0.007371</td>\n",
       "      <td>0.684521</td>\n",
       "      <td>0</td>\n",
       "      <td>-0.932713</td>\n",
       "      <td>Low</td>\n",
       "    </tr>\n",
       "  </tbody>\n",
       "</table>\n",
       "<p>5 rows × 22 columns</p>\n",
       "</div>"
      ],
      "text/plain": [
       "   customer_id telecom_partner gender  age              state     city  \\\n",
       "0            1    Reliance Jio      F   25          Karnataka  Kolkata   \n",
       "1            2    Reliance Jio      F   55            Mizoram   Mumbai   \n",
       "2            3        Vodafone      F   57  Arunachal Pradesh    Delhi   \n",
       "3            4            BSNL      M   46         Tamil Nadu  Kolkata   \n",
       "4            5            BSNL      F   26            Tripura    Delhi   \n",
       "\n",
       "   pincode date_of_registration  num_dependents  estimated_salary  ...  \\\n",
       "0   755597           2020-01-01               4            124962  ...   \n",
       "1   125926           2020-01-01               2            130556  ...   \n",
       "2   423976           2020-01-01               0            148828  ...   \n",
       "3   522841           2020-01-01               1             38722  ...   \n",
       "4   740247           2020-01-01               2             55098  ...   \n",
       "\n",
       "   data_used  churn  tenure_days  total_usage  calls_per_day  sms_per_day  \\\n",
       "0        NaN      0         2035         89.0       0.021622     0.022113   \n",
       "1     5973.0      0         2035       6074.0       0.030467     0.019165   \n",
       "2      193.0      0         2035        266.0       0.024079     0.011794   \n",
       "3     9377.0      0         2035       9482.0       0.039312     0.012285   \n",
       "4     1393.0      0         2035       1486.0       0.038329     0.007371   \n",
       "\n",
       "   data_per_day  is_senior  usage_intensity  salary_bucket  \n",
       "0      0.000000          0         1.258907           High  \n",
       "1      2.935135          0         1.758811           High  \n",
       "2      0.094840          0        -1.727204           High  \n",
       "3      4.607862          0         2.613225            Low  \n",
       "4      0.684521          0        -0.932713            Low  \n",
       "\n",
       "[5 rows x 22 columns]"
      ]
     },
     "execution_count": 15,
     "metadata": {},
     "output_type": "execute_result"
    }
   ],
   "source": [
    "df.head()"
   ]
  },
  {
   "cell_type": "code",
   "execution_count": 16,
   "id": "29ea35f5",
   "metadata": {},
   "outputs": [
    {
     "name": "stdout",
     "output_type": "stream",
     "text": [
      "<class 'pandas.core.frame.DataFrame'>\n",
      "RangeIndex: 243553 entries, 0 to 243552\n",
      "Data columns (total 22 columns):\n",
      " #   Column                Non-Null Count   Dtype         \n",
      "---  ------                --------------   -----         \n",
      " 0   customer_id           243553 non-null  int64         \n",
      " 1   telecom_partner       243553 non-null  object        \n",
      " 2   gender                243553 non-null  object        \n",
      " 3   age                   243553 non-null  int64         \n",
      " 4   state                 243553 non-null  object        \n",
      " 5   city                  243553 non-null  object        \n",
      " 6   pincode               243553 non-null  int64         \n",
      " 7   date_of_registration  243553 non-null  datetime64[ns]\n",
      " 8   num_dependents        243553 non-null  int64         \n",
      " 9   estimated_salary      243553 non-null  int64         \n",
      " 10  calls_made            243553 non-null  int64         \n",
      " 11  sms_sent              243553 non-null  int64         \n",
      " 12  data_used             237503 non-null  float64       \n",
      " 13  churn                 243553 non-null  int64         \n",
      " 14  tenure_days           243553 non-null  int64         \n",
      " 15  total_usage           243553 non-null  float64       \n",
      " 16  calls_per_day         243553 non-null  float64       \n",
      " 17  sms_per_day           243553 non-null  float64       \n",
      " 18  data_per_day          243553 non-null  float64       \n",
      " 19  is_senior             243553 non-null  int32         \n",
      " 20  usage_intensity       243553 non-null  float64       \n",
      " 21  salary_bucket         243553 non-null  category      \n",
      "dtypes: category(1), datetime64[ns](1), float64(6), int32(1), int64(9), object(4)\n",
      "memory usage: 38.3+ MB\n"
     ]
    }
   ],
   "source": [
    "df.info()"
   ]
  },
  {
   "cell_type": "markdown",
   "id": "3711641c",
   "metadata": {},
   "source": [
    "## Step 4: Exploratory Data Analysis (EDA)\n",
    "\n",
    "Exploratory Data Analysis (EDA) is a critical step to understand the underlying patterns, distributions, and relationships within our dataset. In this section, we delve into how various customer attributes and behaviors correlate with churn status, aiming to extract actionable insights.\n",
    "\n",
    "---\n",
    "\n",
    "### 4.1 Churn Distribution Analysis\n",
    "\n",
    "We begin by examining the overall distribution of churned versus non-churned customers in the dataset. This provides a foundational understanding of the churn rate.\n"
   ]
  },
  {
   "cell_type": "code",
   "execution_count": 17,
   "id": "a0a752dd",
   "metadata": {},
   "outputs": [],
   "source": [
    "import matplotlib.pyplot as plt\n",
    "import seaborn as sns"
   ]
  },
  {
   "cell_type": "code",
   "execution_count": 18,
   "id": "4b73bfd0",
   "metadata": {},
   "outputs": [],
   "source": [
    "# Count churned vs not churned customers\n",
    "churn_counts = df['churn'].value_counts()\n",
    "churn_pct = df['churn'].value_counts(normalize=True)"
   ]
  },
  {
   "cell_type": "code",
   "execution_count": 19,
   "id": "08d8d4ca",
   "metadata": {},
   "outputs": [
    {
     "name": "stdout",
     "output_type": "stream",
     "text": [
      "Customer Churn Distribution Summary:\n",
      "  Churn Status   Count  Percentage\n",
      "0  Not Churned  194879       80.02\n",
      "1      Churned   48674       19.98\n"
     ]
    }
   ],
   "source": [
    "# Create a DataFrame for summary display\n",
    "churn_summary = pd.DataFrame({\n",
    "    'Churn Status': churn_counts.index.map(lambda x: 'Churned' if x == 1 else 'Not Churned'),\n",
    "    'Count': churn_counts.values,\n",
    "    'Percentage': (churn_pct.values * 100).round(2)\n",
    "})\n",
    "\n",
    "print(\"Customer Churn Distribution Summary:\")\n",
    "print(churn_summary)"
   ]
  },
  {
   "cell_type": "code",
   "execution_count": 20,
   "id": "f5dc0b17",
   "metadata": {},
   "outputs": [
    {
     "data": {
      "image/png": "[encoded data removed]",
      "text/plain": [
       "<Figure size 700x500 with 1 Axes>"
      ]
     },
     "metadata": {},
     "output_type": "display_data"
    }
   ],
   "source": [
    "plt.figure(figsize=(7, 5))\n",
    "sns.barplot(data=churn_summary, x='Churn Status', y='Count', palette='viridis')\n",
    "plt.title(\"Customer Churn Distribution\", fontsize=16)\n",
    "plt.ylabel(\"Number of Customers\", fontsize=12)\n",
    "plt.xlabel(\"Churn Status\", fontsize=12)\n",
    "plt.xticks(fontsize=10)\n",
    "plt.yticks(fontsize=10)\n",
    "plt.show()"
   ]
  },
  {
   "cell_type": "markdown",
   "id": "e7dfe774",
   "metadata": {},
   "source": [
    "### Insight:\n",
    "The analysis reveals that approximately 20% of customers have churned, while 80% have been retained. This indicates a significant portion of the customer base is leaving, highlighting a clear need for customer retention strategies.\n",
    "\n"
   ]
  },
  {
   "cell_type": "markdown",
   "id": "f452e21a",
   "metadata": {},
   "source": [
    "### 4.2 Churn by Gender\n",
    "Next, we investigate whether there's a difference in churn rates between male and female customers. This helps determine if gender is a significant factor in churn behavior.\n",
    "\n"
   ]
  },
  {
   "cell_type": "code",
   "execution_count": 21,
   "id": "820079c2",
   "metadata": {},
   "outputs": [
    {
     "name": "stdout",
     "output_type": "stream",
     "text": [
      "\n",
      "Churn Rate by Gender:\n",
      "        Total Users  Churned Users  Churn Rate\n",
      "gender                                        \n",
      "F             97576          19480         0.2\n",
      "M            145977          29194         0.2\n"
     ]
    }
   ],
   "source": [
    "# Calculate churn rate by gender\n",
    "churn_by_gender = df.groupby('gender')['churn'].agg(['count', 'sum'])\n",
    "churn_by_gender['churn_rate'] = (churn_by_gender['sum'] / churn_by_gender['count']).round(2)\n",
    "churn_by_gender = churn_by_gender.rename(columns={\n",
    "    'count': 'Total Users',\n",
    "    'sum': 'Churned Users',\n",
    "    'churn_rate': 'Churn Rate'\n",
    "})\n",
    "print(\"\\nChurn Rate by Gender:\")\n",
    "print(churn_by_gender)"
   ]
  },
  {
   "cell_type": "code",
   "execution_count": 22,
   "id": "71c62bd3",
   "metadata": {},
   "outputs": [
    {
     "data": {
      "image/png": "[encoded data removed]",
      "text/plain": [
       "<Figure size 600x400 with 1 Axes>"
      ]
     },
     "metadata": {},
     "output_type": "display_data"
    }
   ],
   "source": [
    "# Plotting the churn rate by gender\n",
    "plt.figure(figsize=(6, 4))\n",
    "ax = sns.barplot(x=churn_by_gender.index, y=churn_by_gender['Churn Rate'], palette='coolwarm')\n",
    "plt.title(\"Churn Rate by Gender\", fontsize=16)\n",
    "plt.ylabel(\"Churn Rate\", fontsize=12)\n",
    "plt.xlabel(\"Gender\", fontsize=12)\n",
    "plt.xticks(fontsize=10)\n",
    "plt.yticks(fontsize=10)\n",
    "plt.ylim(0, 0.3) # Set a consistent y-limit for churn rates\n",
    "\n",
    "# Add churn rate labels on bars\n",
    "for p in ax.patches:\n",
    "    ax.annotate(f'{p.get_height():.2f}',\n",
    "                (p.get_x() + p.get_width() / 2., p.get_height()),\n",
    "                ha='center', va='center', xytext=(0, 10),\n",
    "                textcoords='offset points', fontsize=10, color='black')\n",
    "\n",
    "plt.tight_layout()\n",
    "plt.show()"
   ]
  },
  {
   "cell_type": "markdown",
   "id": "f19c1261",
   "metadata": {},
   "source": [
    "### Insight:\n",
    "Both male and female users exhibit a consistent churn rate of 20%. This suggests that customer churn is not significantly gender-biased in this dataset and is likely driven by other service or value-related factors."
   ]
  },
  {
   "cell_type": "markdown",
   "id": "9a4ddec7",
   "metadata": {},
   "source": [
    "### 4.3 Churn by Telecom Partner\n",
    "Understanding churn rates across different telecom partners is crucial for competitive analysis and identifying underperforming services."
   ]
  },
  {
   "cell_type": "code",
   "execution_count": 23,
   "id": "5690d3c9",
   "metadata": {},
   "outputs": [
    {
     "name": "stdout",
     "output_type": "stream",
     "text": [
      "\n",
      "Churn Rate by Telecom Partner (Sorted):\n",
      "                 Total Users  Churned Users  Churn Rate\n",
      "telecom_partner                                        \n",
      "BSNL                   60723          18216        0.30\n",
      "Vodafone               60802          15200        0.25\n",
      "Reliance Jio           61123           9168        0.15\n",
      "Airtel                 60905           6090        0.10\n"
     ]
    }
   ],
   "source": [
    "# Calculate churn rate by telecom partner, sorted by churn rate\n",
    "churn_by_partner = df.groupby('telecom_partner')['churn'].agg(['count', 'sum'])\n",
    "churn_by_partner['churn_rate'] = (churn_by_partner['sum'] / churn_by_partner['count']).round(2)\n",
    "churn_by_partner = churn_by_partner.rename(columns={\n",
    "    'count': 'Total Users',\n",
    "    'sum': 'Churned Users',\n",
    "    'churn_rate': 'Churn Rate'\n",
    "}).sort_values(by='Churn Rate', ascending=False) # Sort for better visualization\n",
    "\n",
    "print(\"\\nChurn Rate by Telecom Partner (Sorted):\")\n",
    "print(churn_by_partner)"
   ]
  },
  {
   "cell_type": "code",
   "execution_count": 24,
   "id": "57ccb11c",
   "metadata": {},
   "outputs": [
    {
     "data": {
      "image/png": "[encoded data removed]",
      "text/plain": [
       "<Figure size 800x500 with 1 Axes>"
      ]
     },
     "metadata": {},
     "output_type": "display_data"
    }
   ],
   "source": [
    "# Plotting the churn rate by telecom partner\n",
    "plt.figure(figsize=(8, 5))\n",
    "ax = sns.barplot(x=churn_by_partner.index, y=churn_by_partner['Churn Rate'], palette='magma')\n",
    "plt.title(\"Churn Rate by Telecom Partner\", fontsize=16)\n",
    "plt.ylabel(\"Churn Rate\", fontsize=12)\n",
    "plt.xlabel(\"Telecom Partner\", fontsize=12)\n",
    "plt.xticks(rotation=45, ha='right', fontsize=10) # Rotate labels for readability\n",
    "plt.yticks(fontsize=10)\n",
    "plt.ylim(0, 0.35) # Consistent y-limit for churn rates\n",
    "\n",
    "# Add churn rate labels on bars\n",
    "for p in ax.patches:\n",
    "    ax.annotate(f'{p.get_height():.2f}',\n",
    "                (p.get_x() + p.get_width() / 2., p.get_height()),\n",
    "                ha='center', va='center', xytext=(0, 10),\n",
    "                textcoords='offset points', fontsize=10, color='black')\n",
    "\n",
    "plt.tight_layout()\n",
    "plt.show()"
   ]
  },
  {
   "cell_type": "markdown",
   "id": "82121716",
   "metadata": {},
   "source": [
    "### Insight:\n",
    "There's a significant variation in churn rates among telecom partners:\n",
    "\n",
    " - __BSNL__ has the highest churn rate at 30%.\n",
    "\n",
    " - __Vodafone__ follows with 25% churn.\n",
    "\n",
    " - __Reliance Jio__ stands at 15%.\n",
    "\n",
    " - __Airtel__ boasts the lowest churn at 10%.\n",
    ">This strongly indicates that the telecom partner is a major influencing factor for churn, suggesting potential issues with service quality, pricing, or customer support for BSNL and Vodafone.\n"
   ]
  },
  {
   "cell_type": "markdown",
   "id": "b03d519a",
   "metadata": {},
   "source": [
    "### 4.4 Churn by Age Group\n",
    "We segment customers into age buckets to analyze if different age demographics have varying propensities to churn.\n",
    "\n"
   ]
  },
  {
   "cell_type": "code",
   "execution_count": 25,
   "id": "040fbbc8",
   "metadata": {},
   "outputs": [],
   "source": [
    "# Categorize age into buckets using the 'age_group' feature created earlier\n",
    "df['age_group'] = pd.cut(df['age'], bins=[0, 25, 40, 60, 100], labels=['Youth', 'Adult', 'Middle Age', 'Senior'])"
   ]
  },
  {
   "cell_type": "code",
   "execution_count": 26,
   "id": "d9780efc",
   "metadata": {},
   "outputs": [
    {
     "name": "stdout",
     "output_type": "stream",
     "text": [
      "\n",
      "Churn Rate by Age Group:\n",
      "            Total Users  Churned Users  Churn Rate\n",
      "age_group                                         \n",
      "Youth             34026           6773         0.2\n",
      "Adult             63807          12746         0.2\n",
      "Middle Age        85436          17070         0.2\n",
      "Senior            60284          12085         0.2\n"
     ]
    }
   ],
   "source": [
    "# Calculate churn rate by age group\n",
    "age_churn = df.groupby('age_group')['churn'].agg(['count', 'sum'])\n",
    "age_churn['churn_rate'] = (age_churn['sum'] / age_churn['count']).round(2)\n",
    "age_churn = age_churn.rename(columns={'count': 'Total Users', 'sum': 'Churned Users', 'churn_rate': 'Churn Rate'})\n",
    "print(\"\\nChurn Rate by Age Group:\")\n",
    "print(age_churn)"
   ]
  },
  {
   "cell_type": "code",
   "execution_count": 27,
   "id": "f8a8c1f8",
   "metadata": {},
   "outputs": [
    {
     "data": {
      "image/png": "[encoded data removed]",
      "text/plain": [
       "<Figure size 800x500 with 1 Axes>"
      ]
     },
     "metadata": {},
     "output_type": "display_data"
    }
   ],
   "source": [
    "# Plotting the churn rate by age group\n",
    "plt.figure(figsize=(8, 5))\n",
    "ax = sns.barplot(x=age_churn.index, y=age_churn['Churn Rate'], palette='pastel')\n",
    "plt.title(\"Churn Rate by Age Group\", fontsize=16)\n",
    "plt.ylabel(\"Churn Rate\", fontsize=12)\n",
    "plt.xlabel(\"Age Group\", fontsize=12)\n",
    "plt.xticks(fontsize=10)\n",
    "plt.yticks(fontsize=10)\n",
    "plt.ylim(0, 0.3) # Consistent y-limit\n",
    "\n",
    "# Add churn rate labels on bars\n",
    "for p in ax.patches:\n",
    "    ax.annotate(f'{p.get_height():.2f}',\n",
    "                (p.get_x() + p.get_width() / 2., p.get_height()),\n",
    "                ha='center', va='center', xytext=(0, 10),\n",
    "                textcoords='offset points', fontsize=10, color='black')\n",
    "\n",
    "plt.tight_layout()\n",
    "plt.show()"
   ]
  },
  {
   "cell_type": "markdown",
   "id": "0211b8f9",
   "metadata": {},
   "source": [
    "### Insight:\n",
    "The churn rate remains consistently around 20% across all defined age groups (Youth, Adult, Middle Age, Senior). This strongly suggests that age itself is not a primary driver of churn in this dataset, and retention strategies should focus on other factors.\n",
    "\n"
   ]
  },
  {
   "cell_type": "markdown",
   "id": "dc581d7c",
   "metadata": {},
   "source": [
    "### 4.6 Tenure vs Churn\n",
    "\n",
    "We investigate if the length of time a customer has been registered (tenure) correlates with their likelihood of churning."
   ]
  },
  {
   "cell_type": "code",
   "execution_count": 36,
   "id": "90411fdd",
   "metadata": {},
   "outputs": [
    {
     "name": "stdout",
     "output_type": "stream",
     "text": [
      "\n",
      "Average Tenure by Churn Status:\n",
      "  Churn Status  Average Tenure (Days)\n",
      "0  Not Churned                1426.28\n",
      "1      Churned                1424.87\n"
     ]
    },
    {
     "data": {
      "image/png": "[encoded data removed]",
      "text/plain": [
       "<Figure size 800x500 with 1 Axes>"
      ]
     },
     "metadata": {},
     "output_type": "display_data"
    }
   ],
   "source": [
    "# Group by churn and get average tenure\n",
    "tenure_churn = df.groupby('churn')['tenure_days'].mean().round(2)\n",
    "\n",
    "# Convert to DataFrame for display\n",
    "tenure_churn_df = pd.DataFrame({\n",
    "    'Churn Status': ['Not Churned', 'Churned'],\n",
    "    'Average Tenure (Days)': [tenure_churn[0], tenure_churn[1]]\n",
    "})\n",
    "print(\"\\nAverage Tenure by Churn Status:\")\n",
    "print(tenure_churn_df)\n",
    "\n",
    "# Plotting tenure distribution for churned vs. non-churned customers\n",
    "plt.figure(figsize=(8, 5))\n",
    "sns.histplot(data=df, x='tenure_days', hue='churn', kde=True, palette='Spectral', bins=30)\n",
    "plt.title(\"Tenure Distribution by Churn Status\", fontsize=16)\n",
    "plt.xlabel(\"Tenure (Days)\", fontsize=12)\n",
    "plt.ylabel(\"Number of Customers\", fontsize=12)\n",
    "plt.legend(title='Churn Status', labels=['Not Churned', 'Churned']) # Adjust labels if needed\n",
    "plt.xticks(fontsize=10)\n",
    "plt.yticks(fontsize=10)\n",
    "plt.tight_layout()\n",
    "plt.show()"
   ]
  },
  {
   "cell_type": "markdown",
   "id": "54e9cd65",
   "metadata": {},
   "source": [
    "### Insight:\n",
    "The average tenure for both churned (approximately 1422 days) and non-churned (approximately 1424 days) customers is virtually identical. The histogram further reinforces this by showing highly overlapping distributions for tenure across both churn statuses. This indicates that customer tenure has little to no direct impact on churn in this dataset."
   ]
  },
  {
   "cell_type": "markdown",
   "id": "e250ae74",
   "metadata": {},
   "source": [
    "### 4.7 Churn by Number of Dependents\n",
    "We will now examine if the number of dependents a customer has (e.g., family members on the plan) influences their churn behavior. To visualize this, we will use a histogram to show the distribution of dependents for both churned and non-churned customers, which is more robust to potential outliers or a wide range of values compared to a bar plot for each unique dependent count."
   ]
  },
  {
   "cell_type": "code",
   "execution_count": 37,
   "id": "e8e77070",
   "metadata": {},
   "outputs": [
    {
     "data": {
      "image/png": "[encoded data removed]",
      "text/plain": [
       "<Figure size 900x600 with 1 Axes>"
      ]
     },
     "metadata": {},
     "output_type": "display_data"
    }
   ],
   "source": [
    "# Plotting the distribution of number of dependents for churned vs. non-churned customers\n",
    "plt.figure(figsize=(9, 6))\n",
    "# Ensure bins cover the entire range. Adding +2 to max to ensure max value is included in a bin edge.\n",
    "sns.histplot(data=df, x='num_dependents', hue='churn', multiple='stack', kde=True, palette='Set2',\n",
    "             bins=range(int(df['num_dependents'].min()), int(df['num_dependents'].max()) + 2))\n",
    "plt.title(\"Distribution of Number of Dependents by Churn Status\", fontsize=16)\n",
    "plt.xlabel(\"Number of Dependents\", fontsize=12)\n",
    "plt.ylabel(\"Count of Customers\", fontsize=12)\n",
    "plt.xticks(fontsize=10)\n",
    "plt.yticks(fontsize=10)\n",
    "plt.legend(title='Churn Status', labels=['Not Churned', 'Churned'])\n",
    "plt.tight_layout()\n",
    "plt.show()"
   ]
  },
  {
   "cell_type": "markdown",
   "id": "ed4ba542",
   "metadata": {},
   "source": [
    "### Insight:\n",
    "The distribution of the number of dependents shows significant overlap between churned and non-churned customer groups. The majority of customers, regardless of churn status, have a low number of dependents (0-2). There isn't a distinct pattern where a higher or lower number of dependents consistently leads to a higher churn rate. This suggests that the number of dependents may not be a primary factor influencing churn.\n",
    "\n"
   ]
  },
  {
   "cell_type": "markdown",
   "id": "7c85386b",
   "metadata": {},
   "source": [
    "### 4.8 Churn by Salary Bucket\n",
    "Investigating churn rates across different salary buckets can reveal if economic standing plays a role in customer retention."
   ]
  },
  {
   "cell_type": "code",
   "execution_count": 38,
   "id": "44551b46",
   "metadata": {},
   "outputs": [
    {
     "name": "stdout",
     "output_type": "stream",
     "text": [
      "\n",
      "Churn Rate by Salary Bucket:\n",
      "               Total Users  Churned Users  Churn Rate\n",
      "salary_bucket                                        \n",
      "Low                  81188          16144         0.2\n",
      "Mid                  81181          16296         0.2\n",
      "High                 81184          16234         0.2\n"
     ]
    }
   ],
   "source": [
    "# Calculate churn rate by salary bucket\n",
    "salary_churn = df.groupby('salary_bucket')['churn'].agg(['count', 'sum'])\n",
    "salary_churn['churn_rate'] = (salary_churn['sum'] / salary_churn['count']).round(2)\n",
    "salary_churn = salary_churn.rename(columns={\n",
    "    'count': 'Total Users',\n",
    "    'sum': 'Churned Users',\n",
    "    'churn_rate': 'Churn Rate'\n",
    "}).sort_values(by='Churn Rate', ascending=False)\n",
    "\n",
    "print(\"\\nChurn Rate by Salary Bucket:\")\n",
    "print(salary_churn)"
   ]
  },
  {
   "cell_type": "code",
   "execution_count": 39,
   "id": "9c8b13a9",
   "metadata": {},
   "outputs": [
    {
     "data": {
      "image/png": "[encoded data removed]",
      "text/plain": [
       "<Figure size 700x500 with 1 Axes>"
      ]
     },
     "metadata": {},
     "output_type": "display_data"
    }
   ],
   "source": [
    "# Plotting the churn rate by salary bucket\n",
    "plt.figure(figsize=(7, 5))\n",
    "ax = sns.barplot(x=salary_churn.index, y=salary_churn['Churn Rate'], palette='cubehelix')\n",
    "plt.title(\"Churn Rate by Salary Bucket\", fontsize=16)\n",
    "plt.ylabel(\"Churn Rate\", fontsize=12)\n",
    "plt.xlabel(\"Salary Bucket\", fontsize=12)\n",
    "plt.xticks(fontsize=10)\n",
    "plt.yticks(fontsize=10)\n",
    "plt.ylim(0, 0.3) # Consistent y-limit\n",
    "\n",
    "# Add churn rate labels on bars\n",
    "for p in ax.patches:\n",
    "    ax.annotate(f'{p.get_height():.2f}',\n",
    "                (p.get_x() + p.get_width() / 2., p.get_height()),\n",
    "                ha='center', va='center', xytext=(0, 10),\n",
    "                textcoords='offset points', fontsize=10, color='black')\n",
    "\n",
    "plt.tight_layout()\n",
    "plt.show()"
   ]
  },
  {
   "cell_type": "markdown",
   "id": "bdc3013a",
   "metadata": {},
   "source": [
    "### Insight:\n",
    "Similar to age and usage, the churn rate across 'Low', 'Mid', and 'High' salary buckets remains relatively consistent at around 20%. This indicates that estimated salary, when categorized into these buckets, does not appear to be a primary driver of churn."
   ]
  },
  {
   "cell_type": "markdown",
   "id": "83f71faa",
   "metadata": {},
   "source": [
    "## Step 5: Exploratory Data Analysis (EDA) – Key Insights\n",
    "\n",
    "Based on the detailed exploratory data analysis, the following key insights have been uncovered regarding customer churn:\n",
    "\n",
    "---\n",
    "\n",
    "### 🔹 1. Overall Churn Distribution\n",
    "* Approximately **20% of customers are churning**, indicating a significant challenge for customer retention.\n",
    "* The remaining **80% are retained**, providing a substantial base to focus retention efforts.\n",
    "\n",
    "---\n",
    "\n",
    "### 🔹 2. Churn by Gender\n",
    "* The churn rate is remarkably **consistent across both male and female customers (20%)**.\n",
    "* This suggests that **gender alone is not a strong differentiating factor** in churn behavior, pointing towards other, more influential drivers.\n",
    "\n",
    "---\n",
    "\n",
    "### 🔹3. Churn by Telecom Partner\n",
    "* **Significant variations in churn rates are observed across different telecom partners**:\n",
    "    * **BSNL** exhibits the highest churn rate at **30%**.\n",
    "    * **Vodafone** follows with a **25%** churn rate.\n",
    "    * **Reliance Jio** and **Airtel** demonstrate lower churn rates at **15%** and **10%** respectively.\n",
    "* This is the **most influential factor identified in this EDA**, strongly indicating that the choice of telecom partner, likely due to variations in service quality, network reliability, pricing, or customer support, directly impacts customer loyalty.\n",
    "\n",
    "---\n",
    "\n",
    "### 🔹 4. Churn by Age Group\n",
    "* The churn rate remains **consistently around 20% across all age segments** (Youth, Adult, Middle Age, Senior).\n",
    "* This implies that **age, as a standalone demographic factor, does not significantly predict churn**. Retention strategies should therefore be age-agnostic and focus on service-related improvements.\n",
    "\n",
    "---\n",
    "\n",
    "### 🔹 5. Usage Behavior by Churn Status\n",
    "* There is **no major difference in average usage metrics** (calls made, SMS sent, data used) between churned and non-churned customers.\n",
    "* The distributions of these usage metrics also show **considerable overlap**.\n",
    "* This suggests that **basic usage activity is not a primary indicator of churn** in this dataset. Customers are not necessarily churning due to low usage.\n",
    "\n",
    "---\n",
    "\n",
    "### 🔹 6. Tenure vs Churn\n",
    "* The average customer tenure is **nearly identical for both churned and non-churned customers** (approx. 1422 days vs. 1424 days).\n",
    "* This indicates that **customer loyalty, as measured by tenure, does not strongly influence churn** in this dataset. Customers might be churning regardless of how long they've been with the company.\n",
    "\n",
    "---\n",
    "\n",
    "### 🔹 7. Churn by Number of Dependents\n",
    "* The distribution of dependents among churned and non-churned customers is **highly similar**, with most customers having 0-2 dependents regardless of their churn status.\n",
    "* This feature does **not appear to be a significant driver of churn**.\n",
    "\n",
    "---\n",
    "\n",
    "### 🔹 8. Churn by Salary Bucket\n",
    "* Churn rates remain **consistent (around 20%) across all salary buckets** ('Low', 'Mid', 'High').\n",
    "* This suggests that **estimated salary, when categorized, does not have a direct impact on churn**. Affordability or economic standing might not be the primary reasons for customers leaving in this dataset.\n",
    "\n",
    "---\n",
    "\n",
    "### Final Synthesis: The Core Drivers of Churn\n",
    "\n",
    "> Based on this comprehensive Exploratory Data Analysis, it's evident that **churn is not primarily driven by static demographic features like gender, age, or salary, nor by basic usage patterns (calls, SMS, data) or customer tenure.**\n",
    ">\n",
    "> Instead, the most significant factor influencing churn is the **telecom partner itself.** The substantial differences in churn rates among providers (BSNL and Vodafone having significantly higher churn) strongly suggest that **service quality, network performance, customer support, pricing structures, or specific value propositions offered by different partners** are the core drivers of customer dissatisfaction and eventual churn.\n",
    ">\n",
    "> Future efforts for customer retention should primarily focus on in-depth analysis of the service delivery and customer experience aspects of the high-churn telecom partners."
   ]
  },
  {
   "cell_type": "code",
   "execution_count": null,
   "id": "aa1b77c9",
   "metadata": {},
   "outputs": [],
   "source": []
  }
 ],
 "metadata": {
  "kernelspec": {
   "display_name": "Python 3 (ipykernel)",
   "language": "python",
   "name": "python3"
  },
  "language_info": {
   "codemirror_mode": {
    "name": "ipython",
    "version": 3
   },
   "file_extension": ".py",
   "mimetype": "text/x-python",
   "name": "python",
   "nbconvert_exporter": "python",
   "pygments_lexer": "ipython3",
   "version": "3.11.5"
  }
 },
 "nbformat": 4,
 "nbformat_minor": 5
}
